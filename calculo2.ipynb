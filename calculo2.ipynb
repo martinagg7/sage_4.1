{
 "cells": [
  {
   "cell_type": "code",
   "execution_count": 4,
   "metadata": {},
   "outputs": [
    {
     "data": {
      "text/plain": [
       "1/5"
      ]
     },
     "execution_count": 4,
     "metadata": {},
     "output_type": "execute_result"
    }
   ],
   "source": [
    "#1 \n",
    "f(n)=(n^(3)+2*(n)-1)/(5*n^(3)+n^(2)-(2*n)+1)\n",
    "limit(f(n),n=oo)"
   ]
  },
  {
   "cell_type": "code",
   "execution_count": 6,
   "metadata": {},
   "outputs": [
    {
     "data": {
      "text/plain": [
       "-5/2"
      ]
     },
     "execution_count": 6,
     "metadata": {},
     "output_type": "execute_result"
    }
   ],
   "source": [
    "#2\n",
    "f(n)=sqrt(n^2-n)-sqrt(n^2+4*n)\n",
    "limit(f(n),n=oo)"
   ]
  },
  {
   "cell_type": "code",
   "execution_count": 2,
   "metadata": {},
   "outputs": [
    {
     "data": {
      "text/plain": [
       "0"
      ]
     },
     "execution_count": 2,
     "metadata": {},
     "output_type": "execute_result"
    }
   ],
   "source": [
    "#3\n",
    "f(n)=log(1+n+sqrt(n))-log(n)\n",
    "limit(f(n),n=oo)"
   ]
  },
  {
   "cell_type": "code",
   "execution_count": 55,
   "metadata": {},
   "outputs": [
    {
     "data": {
      "text/plain": [
       "n |--> 0"
      ]
     },
     "execution_count": 55,
     "metadata": {},
     "output_type": "execute_result"
    }
   ],
   "source": [
    "#4\n",
    "f(n)=n^3\n",
    "sum(f(n) for n in range(1,10000))\n",
    "limit(f/n^4,n=oo)\n"
   ]
  },
  {
   "cell_type": "code",
   "execution_count": 4,
   "metadata": {},
   "outputs": [
    {
     "data": {
      "text/plain": [
       "e^(-3)"
      ]
     },
     "execution_count": 4,
     "metadata": {},
     "output_type": "execute_result"
    }
   ],
   "source": [
    "#5\n",
    "f(n)=((n^3-2*n)/(n^3+3*n^2-2*n-1))\n",
    "limit(f(n)^n,n=oo)\n"
   ]
  },
  {
   "cell_type": "code",
   "execution_count": 21,
   "metadata": {},
   "outputs": [
    {
     "data": {
      "text/plain": [
       "5/4"
      ]
     },
     "execution_count": 21,
     "metadata": {},
     "output_type": "execute_result"
    }
   ],
   "source": [
    "#6\n",
    "n=(m+2)/(m^3-m)\n",
    "sum(n,m,2,oo)"
   ]
  },
  {
   "cell_type": "code",
   "execution_count": 22,
   "metadata": {},
   "outputs": [
    {
     "data": {
      "text/plain": [
       "1/4"
      ]
     },
     "execution_count": 22,
     "metadata": {},
     "output_type": "execute_result"
    }
   ],
   "source": [
    "#7\n",
    "n=(1/(m^3-m))\n",
    "sum(n,m,2,oo)\n"
   ]
  },
  {
   "cell_type": "code",
   "execution_count": 27,
   "metadata": {},
   "outputs": [
    {
     "data": {
      "text/plain": [
       "(-1)^n*sum(x^n, x, 0, +Infinity)"
      ]
     },
     "execution_count": 27,
     "metadata": {},
     "output_type": "execute_result"
    }
   ],
   "source": [
    "#8\n",
    "s=(((-1)^n)*x^n)\n",
    "sum(s,x,0,oo)"
   ]
  },
  {
   "cell_type": "code",
   "execution_count": 29,
   "metadata": {},
   "outputs": [
    {
     "data": {
      "text/plain": [
       "4*(-1)^n*n*sum(x^(2*n), x, 0, +Infinity)"
      ]
     },
     "execution_count": 29,
     "metadata": {},
     "output_type": "execute_result"
    }
   ],
   "source": [
    "#9\n",
    "s=((-1)^n*4*n*(x)^(2*n))\n",
    "sum(s,x,0,oo)"
   ]
  },
  {
   "cell_type": "code",
   "execution_count": 43,
   "metadata": {},
   "outputs": [
    {
     "data": {
      "text/plain": [
       "93958705499/11156683466653165551101*(x - 10)^10 - 8825080100/110462212541120451001*(x - 10)^9 + 817256401/1093685272684360901*(x - 10)^8 - 74455920/10828567056280801*(x - 10)^7 + 6652099/107213535210701*(x - 10)^6 - 580060/1061520150601*(x - 10)^5 + 49001/10510100501*(x - 10)^4 - 3960/104060401*(x - 10)^3 + 299/1030301*(x - 10)^2 - 20/10201*x + 301/10201"
      ]
     },
     "execution_count": 43,
     "metadata": {},
     "output_type": "execute_result"
    }
   ],
   "source": [
    "#10\n",
    "#he escogido el valor del grado del polinomio  de aproximación 10\n",
    "taylor((1/(1+x^2)),x,10)"
   ]
  },
  {
   "cell_type": "code",
   "execution_count": 45,
   "metadata": {},
   "outputs": [
    {
     "data": {
      "text/plain": [
       "1/40320*x^9 - 1/720*x^7 + 1/24*x^5 - 1/2*x^3 + x"
      ]
     },
     "execution_count": 45,
     "metadata": {},
     "output_type": "execute_result"
    }
   ],
   "source": [
    "#11\n",
    "#he escogido el valor del grado del polinomio  de aproximación 10\n",
    "taylor(x*cos(x),x,0,10)"
   ]
  }
 ],
 "metadata": {
  "kernelspec": {
   "display_name": "SageMath 9.7",
   "language": "sage",
   "name": "SageMath-9.7"
  },
  "language_info": {
   "codemirror_mode": {
    "name": "ipython",
    "version": 3
   },
   "file_extension": ".py",
   "mimetype": "text/x-python",
   "name": "python",
   "nbconvert_exporter": "python",
   "pygments_lexer": "ipython3",
   "version": "3.10.5"
  },
  "orig_nbformat": 4
 },
 "nbformat": 4,
 "nbformat_minor": 2
}
